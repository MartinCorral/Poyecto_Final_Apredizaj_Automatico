{
  "nbformat": 4,
  "nbformat_minor": 0,
  "metadata": {
    "colab": {
      "private_outputs": true,
      "provenance": []
    },
    "kernelspec": {
      "name": "python3",
      "display_name": "Python 3"
    },
    "language_info": {
      "name": "python"
    }
  },
  "cells": [
    {
      "cell_type": "code",
      "execution_count": null,
      "metadata": {
        "id": "drBwh1coLelo"
      },
      "outputs": [],
      "source": [
        "import pandas as pd"
      ]
    },
    {
      "cell_type": "code",
      "source": [
        "df = pd.read_csv('data.csv')\n",
        "df.head()"
      ],
      "metadata": {
        "id": "sHqHYMMULnjI"
      },
      "execution_count": null,
      "outputs": []
    },
    {
      "cell_type": "code",
      "source": [
        "df.isnull().sum()"
      ],
      "metadata": {
        "id": "p2GGgjkSLy8X"
      },
      "execution_count": null,
      "outputs": []
    },
    {
      "cell_type": "code",
      "source": [
        "df = df.drop(['Unnamed: 32','id'],axis=1)\n",
        "x = df.drop('diagnosis',axis=1)"
      ],
      "metadata": {
        "id": "lRY5nHK9MAjG"
      },
      "execution_count": null,
      "outputs": []
    },
    {
      "cell_type": "code",
      "source": [
        "x.head()"
      ],
      "metadata": {
        "id": "AB5wAIn3Mjz3"
      },
      "execution_count": null,
      "outputs": []
    },
    {
      "cell_type": "code",
      "source": [
        "df = pd.get_dummies(df,drop_first=True)\n",
        "df.head()"
      ],
      "metadata": {
        "id": "pK4NaC2LNjxH"
      },
      "execution_count": null,
      "outputs": []
    },
    {
      "cell_type": "code",
      "source": [
        "y = df['diagnosis_M']\n",
        "y"
      ],
      "metadata": {
        "id": "kC7nWLqZOQYX"
      },
      "execution_count": null,
      "outputs": []
    },
    {
      "cell_type": "code",
      "source": [
        "from sklearn.model_selection import train_test_split"
      ],
      "metadata": {
        "id": "dsdiZhC-O9A_"
      },
      "execution_count": null,
      "outputs": []
    },
    {
      "cell_type": "code",
      "source": [
        "X_train, X_test, y_train, y_test = train_test_split(x, y, test_size=0.3, random_state=0)"
      ],
      "metadata": {
        "id": "OsxdA-acPF32"
      },
      "execution_count": null,
      "outputs": []
    },
    {
      "cell_type": "code",
      "source": [
        "from sklearn.linear_model import LogisticRegression\n",
        "RL = LogisticRegression(random_state=0).fit(X_train,y_train)"
      ],
      "metadata": {
        "id": "F2KDbgWYQDSu"
      },
      "execution_count": null,
      "outputs": []
    },
    {
      "cell_type": "code",
      "source": [
        "rl_pred = RL.predict(X_test)"
      ],
      "metadata": {
        "id": "eVyJHybyQkjf"
      },
      "execution_count": null,
      "outputs": []
    },
    {
      "cell_type": "code",
      "source": [
        "from sklearn.metrics import classification_report\n",
        "from sklearn.metrics import confusion_matrix"
      ],
      "metadata": {
        "id": "OBOL77cxSTEv"
      },
      "execution_count": null,
      "outputs": []
    },
    {
      "cell_type": "code",
      "source": [
        "from sklearn import tree\n",
        "tree = tree.DecisionTreeClassifier(random_state=0).fit(X_train,y_train)"
      ],
      "metadata": {
        "id": "DeWTcZrCUNnI"
      },
      "execution_count": null,
      "outputs": []
    },
    {
      "cell_type": "code",
      "source": [
        "predtree = tree.predict(X_test)"
      ],
      "metadata": {
        "id": "EvXeaQ9EUmhR"
      },
      "execution_count": null,
      "outputs": []
    },
    {
      "cell_type": "code",
      "source": [
        "from sklearn.neighbors import KNeighborsClassifier\n",
        "KNN = KNeighborsClassifier()\n",
        "KNN.fit(X_train,y_train)"
      ],
      "metadata": {
        "id": "RCS2jgzZUY4N"
      },
      "execution_count": null,
      "outputs": []
    },
    {
      "cell_type": "code",
      "source": [
        "predKNN = KNN.predict(X_test)"
      ],
      "metadata": {
        "id": "DxM57BICUkUf"
      },
      "execution_count": null,
      "outputs": []
    },
    {
      "cell_type": "code",
      "source": [
        "from sklearn.naive_bayes import GaussianNB\n",
        "NB = GaussianNB().fit(X_train,y_train)"
      ],
      "metadata": {
        "id": "R3lxy4MuVSdQ"
      },
      "execution_count": null,
      "outputs": []
    },
    {
      "cell_type": "code",
      "source": [
        "ynb = NB.predict(X_test)"
      ],
      "metadata": {
        "id": "kwqN6IULWXKR"
      },
      "execution_count": null,
      "outputs": []
    },
    {
      "cell_type": "code",
      "source": [
        "from sklearn.ensemble import AdaBoostClassifier\n",
        "ADA = AdaBoostClassifier(random_state=0).fit(X_train,y_train)"
      ],
      "metadata": {
        "id": "JMenKBYGWufQ"
      },
      "execution_count": null,
      "outputs": []
    },
    {
      "cell_type": "code",
      "source": [
        "yada = ADA.predict(X_test)"
      ],
      "metadata": {
        "id": "4xTltDmcY6wg"
      },
      "execution_count": null,
      "outputs": []
    },
    {
      "cell_type": "code",
      "source": [
        "from sklearn.ensemble import BaggingClassifier"
      ],
      "metadata": {
        "id": "QJ7AZW6qZQ4J"
      },
      "execution_count": null,
      "outputs": []
    },
    {
      "cell_type": "code",
      "source": [
        "bag = BaggingClassifier(random_state=0).fit(X_train,y_train)"
      ],
      "metadata": {
        "id": "m81Yz1yubfet"
      },
      "execution_count": null,
      "outputs": []
    },
    {
      "cell_type": "code",
      "source": [
        "ybag = bag.predict(X_test)"
      ],
      "metadata": {
        "id": "xHKdKUndbN9P"
      },
      "execution_count": null,
      "outputs": []
    },
    {
      "cell_type": "code",
      "source": [
        "import seaborn as sns\n",
        "import matplotlib.pyplot as plt\n",
        "import numpy as np\n",
        "for i,model in enumerate([RL,NB,tree,ADA,bag]):\n",
        "    cm = confusion_matrix(y_test, model.predict(X_test))\n",
        "    cm = cm.astype('float') / cm.sum(axis=1)[:, np.newaxis]\n",
        "    plt.figure(i)\n",
        "    sns.heatmap(cm, annot=True, annot_kws={\"size\":10}, \n",
        "            cmap='Blues', square=True, fmt='.3f')\n",
        "    plt.ylabel('True label')\n",
        "    plt.xlabel('Predicted label')\n",
        "    plt.title('Confusion matrix for:\\n{}'.format(model.__class__.__name__));"
      ],
      "metadata": {
        "id": "8X329PEVcVSQ"
      },
      "execution_count": null,
      "outputs": []
    },
    {
      "cell_type": "code",
      "source": [
        "]from sklearn.metrics import fbeta_score, accuracy_score\n",
        "from time import time\n",
        "\n",
        "'''\n",
        "     entradas:\n",
        "        - learner: el algoritmo de aprendizaje que se va a entrenar y predecir\n",
        "        - sample_size: el tamaño de las muestras (número) que se extraerán del conjunto de entrenamiento\n",
        "        - X_train: conjunto de entrenamiento de características\n",
        "        - y_train: conjunto de entrenamiento de ingresos\n",
        "        - X_test: conjunto de pruebas de características\n",
        "        - y_test: conjunto de pruebas de ingresos\n",
        "     '''\n",
        "\n",
        "def train_predict(learner, sample_size, X_train, y_train, X_test, y_test):\n",
        "    results = {}\n",
        "    \n",
        "    # Ajustar al alumno a los datos de entrenamiento usando cortes con 'sample_size'\n",
        "    start = time() # Obtener hora de inicio\n",
        "    learner = learner.fit(X_train[:sample_size],y_train[:sample_size])\n",
        "    end = time() # Obtener hora de termino\n",
        "    \n",
        "    # Calcular el tiempo de entrenamiento\n",
        "    results['train_time'] = end - start\n",
        "        \n",
        "    #  Get the predictions on the test set,\n",
        "    #  then get predictions on the first 300 training samples\n",
        "    start = time() # Obtener hora de inicio\n",
        "    predictions_test = learner.predict(X_test)\n",
        "    predictions_train = learner.predict(X_train[:300])\n",
        "    end = time() # Obtener hora de termino\n",
        "    \n",
        "   # Calcular el tiempo total de predicción\n",
        "    results['pred_time'] = end - start\n",
        "            \n",
        "    # Calcular la precisión en las primeras 300 muestras de entrenamiento\n",
        "    results['acc_train'] = accuracy_score(y_train[:300],predictions_train)\n",
        "        \n",
        "   # Calcular la precisión en el conjunto de prueba\n",
        "    results['acc_test'] = accuracy_score(y_test,predictions_test)\n",
        "    \n",
        "    # Calcule la puntuación F en las primeras 300 muestras de entrenamiento\n",
        "    results['f_train'] = fbeta_score(y_train[:300],predictions_train,beta=0.5)\n",
        "        \n",
        "    # Calcule la puntuación F en el conjunto de prueba\n",
        "    results['f_test'] = fbeta_score(y_test,predictions_test,beta=0.5)\n",
        "       \n",
        "    # Éxito\n",
        "    print(\"{} trained on {} samples.\".format(learner.__class__.__name__, sample_size))\n",
        "        \n",
        "    # Return the results\n",
        "    return results"
      ],
      "metadata": {
        "id": "kvErhKsDfIU-"
      },
      "execution_count": null,
      "outputs": []
    },
    {
      "cell_type": "code",
      "source": [
        "\n",
        "samples_1 = int(round(len(X_train) / 100))\n",
        "samples_10 = int(round(len(X_train) / 10))\n",
        "samples_100 = len(X_train)\n",
        "results = {}\n",
        "for clf in [RL,NB,tree,ADA,bag]:\n",
        "    clf_name = clf.__class__.__name__\n",
        "    results[clf_name] = {}\n",
        "    for i, samples in enumerate([samples_1, samples_10, samples_100]):\n",
        "        results[clf_name][i] = \\\n",
        "        train_predict(clf, samples, X_train, y_train, X_test, y_test)"
      ],
      "metadata": {
        "id": "uTG35hE1dBbJ"
      },
      "execution_count": null,
      "outputs": []
    },
    {
      "cell_type": "code",
      "source": [
        "for i in results.items():\n",
        "    print(i[0])\n",
        "    display(pd.DataFrame(i[1]).rename(columns={0:'1%', 1:'10%', 2:'100%'}))"
      ],
      "metadata": {
        "id": "zBd_PIvzd7tJ"
      },
      "execution_count": null,
      "outputs": []
    }
  ]
}